{
 "cells": [
  {
   "cell_type": "code",
   "execution_count": 1,
   "metadata": {},
   "outputs": [],
   "source": [
    "import pandas as pd"
   ]
  },
  {
   "cell_type": "code",
   "execution_count": 2,
   "metadata": {},
   "outputs": [],
   "source": [
    "top5000_academic = pd.read_csv('CAT_5000_verbs.csv', encoding='utf-8')"
   ]
  },
  {
   "cell_type": "code",
   "execution_count": 7,
   "metadata": {},
   "outputs": [],
   "source": [
    "import pymorphy2\n",
    "morph = pymorphy2.MorphAnalyzer()"
   ]
  },
  {
   "cell_type": "code",
   "execution_count": 3,
   "metadata": {},
   "outputs": [
    {
     "data": {
      "text/html": [
       "<div>\n",
       "<style scoped>\n",
       "    .dataframe tbody tr th:only-of-type {\n",
       "        vertical-align: middle;\n",
       "    }\n",
       "\n",
       "    .dataframe tbody tr th {\n",
       "        vertical-align: top;\n",
       "    }\n",
       "\n",
       "    .dataframe thead th {\n",
       "        text-align: right;\n",
       "    }\n",
       "</style>\n",
       "<table border=\"1\" class=\"dataframe\">\n",
       "  <thead>\n",
       "    <tr style=\"text-align: right;\">\n",
       "      <th></th>\n",
       "      <th>lemma</th>\n",
       "      <th>freq</th>\n",
       "    </tr>\n",
       "  </thead>\n",
       "  <tbody>\n",
       "    <tr>\n",
       "      <td>0</td>\n",
       "      <td>мочь</td>\n",
       "      <td>33712</td>\n",
       "    </tr>\n",
       "    <tr>\n",
       "      <td>1</td>\n",
       "      <td>являться</td>\n",
       "      <td>26611</td>\n",
       "    </tr>\n",
       "    <tr>\n",
       "      <td>2</td>\n",
       "      <td>иметь</td>\n",
       "      <td>18593</td>\n",
       "    </tr>\n",
       "    <tr>\n",
       "      <td>3</td>\n",
       "      <td>быть</td>\n",
       "      <td>15181</td>\n",
       "    </tr>\n",
       "    <tr>\n",
       "      <td>4</td>\n",
       "      <td>использовать</td>\n",
       "      <td>12889</td>\n",
       "    </tr>\n",
       "    <tr>\n",
       "      <td>...</td>\n",
       "      <td>...</td>\n",
       "      <td>...</td>\n",
       "    </tr>\n",
       "    <tr>\n",
       "      <td>4995</td>\n",
       "      <td>зам</td>\n",
       "      <td>8</td>\n",
       "    </tr>\n",
       "    <tr>\n",
       "      <td>4996</td>\n",
       "      <td>выровнять</td>\n",
       "      <td>8</td>\n",
       "    </tr>\n",
       "    <tr>\n",
       "      <td>4997</td>\n",
       "      <td>требуемый</td>\n",
       "      <td>8</td>\n",
       "    </tr>\n",
       "    <tr>\n",
       "      <td>4998</td>\n",
       "      <td>достигти</td>\n",
       "      <td>8</td>\n",
       "    </tr>\n",
       "    <tr>\n",
       "      <td>4999</td>\n",
       "      <td>Медиан</td>\n",
       "      <td>8</td>\n",
       "    </tr>\n",
       "  </tbody>\n",
       "</table>\n",
       "<p>5000 rows × 2 columns</p>\n",
       "</div>"
      ],
      "text/plain": [
       "             lemma   freq\n",
       "0             мочь  33712\n",
       "1         являться  26611\n",
       "2            иметь  18593\n",
       "3             быть  15181\n",
       "4     использовать  12889\n",
       "...            ...    ...\n",
       "4995           зам      8\n",
       "4996     выровнять      8\n",
       "4997     требуемый      8\n",
       "4998      достигти      8\n",
       "4999        Медиан      8\n",
       "\n",
       "[5000 rows x 2 columns]"
      ]
     },
     "execution_count": 3,
     "metadata": {},
     "output_type": "execute_result"
    }
   ],
   "source": [
    "top5000_academic"
   ]
  },
  {
   "cell_type": "code",
   "execution_count": 12,
   "metadata": {},
   "outputs": [
    {
     "name": "stdout",
     "output_type": "stream",
     "text": [
      "4939\n"
     ]
    }
   ],
   "source": [
    "really_verbs = []\n",
    "for verb in top5000_academic['lemma']:\n",
    "    p = morph.parse(verb)\n",
    "    is_verb = False\n",
    "    for option in p:\n",
    "        if option.tag.POS == 'INFN':\n",
    "            is_verb = True\n",
    "            really_verbs.append(verb)\n",
    "print(len(really_verbs))"
   ]
  },
  {
   "cell_type": "code",
   "execution_count": 16,
   "metadata": {},
   "outputs": [],
   "source": [
    "import re\n",
    "with open('Rozental_no_metadata.txt', encoding='utf-8') as f:\n",
    "    Rozental = f.read()\n",
    "all_Rozental_verbs = []\n",
    "government_models = [model.strip() for model in Rozental.split(';')]\n",
    "for government_model in government_models:\n",
    "    try:\n",
    "        [description, verbs] = government_model.split(':')\n",
    "        verbs = re.sub('[0-9]', '', verbs) #нам не нужны номера значений\n",
    "        verbs = [verb.strip() for verb in verbs.split(',')]\n",
    "        for verb in verbs:\n",
    "            all_Rozental_verbs.append(verb)\n",
    "    except: ## Если попадутся каке-то абзацы метаданных\n",
    "        pass"
   ]
  },
  {
   "cell_type": "code",
   "execution_count": 17,
   "metadata": {},
   "outputs": [
    {
     "data": {
      "text/plain": [
       "3735"
      ]
     },
     "execution_count": 17,
     "metadata": {},
     "output_type": "execute_result"
    }
   ],
   "source": [
    "len(all_Rozental_verbs)"
   ]
  },
  {
   "cell_type": "code",
   "execution_count": 19,
   "metadata": {},
   "outputs": [],
   "source": [
    "need_extra_data = list(set(really_verbs)-set(all_Rozental_verbs))"
   ]
  },
  {
   "cell_type": "code",
   "execution_count": 20,
   "metadata": {},
   "outputs": [
    {
     "data": {
      "text/plain": [
       "3689"
      ]
     },
     "execution_count": 20,
     "metadata": {},
     "output_type": "execute_result"
    }
   ],
   "source": [
    "len(need_extra_data)"
   ]
  },
  {
   "cell_type": "code",
   "execution_count": 22,
   "metadata": {},
   "outputs": [],
   "source": [
    "collected_government_data = pd.DataFrame({'verbs':need_extra_data})"
   ]
  },
  {
   "cell_type": "code",
   "execution_count": 23,
   "metadata": {},
   "outputs": [
    {
     "data": {
      "text/html": [
       "<div>\n",
       "<style scoped>\n",
       "    .dataframe tbody tr th:only-of-type {\n",
       "        vertical-align: middle;\n",
       "    }\n",
       "\n",
       "    .dataframe tbody tr th {\n",
       "        vertical-align: top;\n",
       "    }\n",
       "\n",
       "    .dataframe thead th {\n",
       "        text-align: right;\n",
       "    }\n",
       "</style>\n",
       "<table border=\"1\" class=\"dataframe\">\n",
       "  <thead>\n",
       "    <tr style=\"text-align: right;\">\n",
       "      <th></th>\n",
       "      <th>verbs</th>\n",
       "    </tr>\n",
       "  </thead>\n",
       "  <tbody>\n",
       "    <tr>\n",
       "      <td>0</td>\n",
       "      <td>формироваться</td>\n",
       "    </tr>\n",
       "    <tr>\n",
       "      <td>1</td>\n",
       "      <td>расширяться</td>\n",
       "    </tr>\n",
       "    <tr>\n",
       "      <td>2</td>\n",
       "      <td>отличать</td>\n",
       "    </tr>\n",
       "    <tr>\n",
       "      <td>3</td>\n",
       "      <td>выражеть</td>\n",
       "    </tr>\n",
       "    <tr>\n",
       "      <td>4</td>\n",
       "      <td>отнимать</td>\n",
       "    </tr>\n",
       "    <tr>\n",
       "      <td>...</td>\n",
       "      <td>...</td>\n",
       "    </tr>\n",
       "    <tr>\n",
       "      <td>3684</td>\n",
       "      <td>предназначать</td>\n",
       "    </tr>\n",
       "    <tr>\n",
       "      <td>3685</td>\n",
       "      <td>однокореть</td>\n",
       "    </tr>\n",
       "    <tr>\n",
       "      <td>3686</td>\n",
       "      <td>лишаться</td>\n",
       "    </tr>\n",
       "    <tr>\n",
       "      <td>3687</td>\n",
       "      <td>центрировать</td>\n",
       "    </tr>\n",
       "    <tr>\n",
       "      <td>3688</td>\n",
       "      <td>намечаться</td>\n",
       "    </tr>\n",
       "  </tbody>\n",
       "</table>\n",
       "<p>3689 rows × 1 columns</p>\n",
       "</div>"
      ],
      "text/plain": [
       "              verbs\n",
       "0     формироваться\n",
       "1       расширяться\n",
       "2          отличать\n",
       "3          выражеть\n",
       "4          отнимать\n",
       "...             ...\n",
       "3684  предназначать\n",
       "3685     однокореть\n",
       "3686       лишаться\n",
       "3687   центрировать\n",
       "3688     намечаться\n",
       "\n",
       "[3689 rows x 1 columns]"
      ]
     },
     "execution_count": 23,
     "metadata": {},
     "output_type": "execute_result"
    }
   ],
   "source": [
    "collected_government_data"
   ]
  },
  {
   "cell_type": "code",
   "execution_count": 26,
   "metadata": {},
   "outputs": [],
   "source": [
    "import requests\n",
    "from requests.exceptions import HTTPError\n",
    "from numpy import median # for printing all fval ranks above the rank median\n",
    "from decimal import Decimal # for printing freq ratio without truncation\n",
    "\n",
    "def get_data(word):\n",
    "    # configure default params to send to the server\n",
    "    url = 'http://cococo.cosyco.ru/cococo-test.py'\n",
    "    params = {\n",
    "        'flimit': \"10\",\n",
    "        'word1': word,        # Первое слово (ex. читать)\n",
    "        'pos1': \"\",\n",
    "        'features1': \"\",\n",
    "        'word2': \"\",        # Второе слово (ex. сказать)\n",
    "        'pos2': \"\",\n",
    "        'features2': \"\",\n",
    "        'corpus': \"RNC\",    # Используем ruscorpora\n",
    "        'flem': \"0\",\n",
    "        'alem': \"0\",\n",
    "        'skip': \"2\"         # 2-граммы\n",
    "    }\n",
    "\n",
    "    # send get request to the server\n",
    "    try:\n",
    "        r = requests.get(url=url, params=params)\n",
    "\n",
    "        # if server error, raise an exception\n",
    "        r.raise_for_status()\n",
    "    except HTTPError as http_err:\n",
    "        print('HTTP error occurred:', http_err)\n",
    "    except Exception as err:\n",
    "        print('Other error occurred:', err)\n",
    "    else:\n",
    "        data = r.json()\n",
    "        return data"
   ]
  },
  {
   "cell_type": "code",
   "execution_count": 25,
   "metadata": {},
   "outputs": [],
   "source": [
    "def get_cases_freq(word):\n",
    "    data = get_data(word)\n",
    "    if data:\n",
    "        cases = {case: 0 for case in ['gen', 'dat', 'acc', 'ins', 'loc']}\n",
    "        for pos in data['poses']:\n",
    "            for feature in pos['features']:\n",
    "                if feature['fname'] == 'case':\n",
    "                    for case in feature['fvals']:\n",
    "                        case_val = case['val']\n",
    "                        if case_val in cases:\n",
    "                            cases[case_val] += case['freqs'][0]\n",
    "        return cases"
   ]
  },
  {
   "cell_type": "code",
   "execution_count": 27,
   "metadata": {},
   "outputs": [],
   "source": [
    "collected_government_data['bigram_all_cases'] = collected_government_data['verbs'].apply(get_cases_freq)"
   ]
  },
  {
   "cell_type": "code",
   "execution_count": 28,
   "metadata": {},
   "outputs": [],
   "source": [
    "collected_government_data.to_csv('new_government_data.csv')"
   ]
  },
  {
   "cell_type": "code",
   "execution_count": 29,
   "metadata": {},
   "outputs": [],
   "source": [
    "def get_preposition_data(verb):\n",
    "    words_data = get_data(verb)['words']\n",
    "    if words_data:\n",
    "        return {word['word']: word['freq1'] for word in words_data}"
   ]
  },
  {
   "cell_type": "code",
   "execution_count": 30,
   "metadata": {},
   "outputs": [],
   "source": [
    "collected_government_data['preposition_data'] = collected_government_data['verbs'].apply(get_preposition_data)"
   ]
  },
  {
   "cell_type": "code",
   "execution_count": 31,
   "metadata": {},
   "outputs": [],
   "source": [
    "collected_government_data.to_csv('new_government_data.csv')"
   ]
  }
 ],
 "metadata": {
  "kernelspec": {
   "display_name": "Python 3",
   "language": "python",
   "name": "python3"
  },
  "language_info": {
   "codemirror_mode": {
    "name": "ipython",
    "version": 3
   },
   "file_extension": ".py",
   "mimetype": "text/x-python",
   "name": "python",
   "nbconvert_exporter": "python",
   "pygments_lexer": "ipython3",
   "version": "3.7.4"
  }
 },
 "nbformat": 4,
 "nbformat_minor": 2
}
