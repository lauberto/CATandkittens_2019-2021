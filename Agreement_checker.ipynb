{
 "cells": [
  {
   "cell_type": "markdown",
   "metadata": {},
   "source": [
    "В тетрадке собран код для проверки управления и снятия омонимии существительных. Будут добавлены примеры"
   ]
  },
  {
   "cell_type": "code",
   "execution_count": null,
   "metadata": {},
   "outputs": [],
   "source": [
    "import conllu"
   ]
  },
  {
   "cell_type": "code",
   "execution_count": 2,
   "metadata": {},
   "outputs": [],
   "source": [
    "def read_conllu(conllu_file):\n",
    "    with open(conllu_file, \"r\", encoding=\"utf-8\") as f:\n",
    "        data = f.read()\n",
    "        return conllu.parse(data)"
   ]
  },
  {
   "cell_type": "code",
   "execution_count": 3,
   "metadata": {},
   "outputs": [],
   "source": [
    "pet_depression_sents = read_conllu('text_to_test_control_cases.conllu')"
   ]
  },
  {
   "cell_type": "code",
   "execution_count": 4,
   "metadata": {},
   "outputs": [],
   "source": [
    "def get_adjectives_dict(sentence): ##выделяет прилагательные, которые затем будут проверяться\n",
    "    adjectives_dict = {'full': [], 'predicative': []}\n",
    "    adjectives = sentence.filter(upostag='ADJ')\n",
    "    for adjective in adjectives:\n",
    "        if 'Case' in adjective['feats']:\n",
    "            adjectives_dict['full'].append(adjective)\n",
    "        else:\n",
    "            adjectives_dict['predicative'].append(adjective)"
   ]
  },
  {
   "cell_type": "code",
   "execution_count": 5,
   "metadata": {},
   "outputs": [],
   "source": [
    "def get_number_or_gender(word):\n",
    "    try: \n",
    "        if word['feats']['Number'] == 'Plur':\n",
    "            agreement_feature = 'Plur'\n",
    "        else:\n",
    "            agreement_feature = word['feats']['Gender']\n",
    "    except KeyError: ## если по какой-то причине нет согласовательной категории в словаре\n",
    "        agreement_feature = None\n",
    "    return agreement_feature"
   ]
  },
  {
   "cell_type": "code",
   "execution_count": null,
   "metadata": {},
   "outputs": [],
   "source": [
    "def get_declenation(lemma, gender, animacy): ##склонение нужно для дальнейшего снятия омонимии\n",
    "    if animacy = 'Inan':\n",
    "        postfix = '_inanim'\n",
    "    else:\n",
    "        postfix = '_anim'\n",
    "    last_letter = noun_lemma[-1]\n",
    "    decl_n = None\n",
    "    if last_letter in 'ая':\n",
    "        if lemma.endwith('ия'):\n",
    "            dec_n = '1ия'\n",
    "        else:\n",
    "            dec_n = '1'\n",
    "    elif last_letter in 'ое':\n",
    "        decl_n = '2_neutro'\n",
    "    elif last_letter in 'йцкнгшщзхфвпрлджчсмтб':\n",
    "        decl_n is '2_musc'\n",
    "    elif last_letter == 'ь':\n",
    "        if noun_lemma[-2] in 'чжшщ' or gender == 'Fem':\n",
    "            decl_n = '3'\n",
    "        else:\n",
    "            decl_n = '2_masc'\n",
    "    if decl_n:\n",
    "        return decl_n + postfix"
   ]
  },
  {
   "cell_type": "code",
   "execution_count": null,
   "metadata": {},
   "outputs": [],
   "source": [
    "##Информацию о именительном и родительном мужского рода второго склонения нужно добавлять словарно\n",
    "\n",
    "homonimic_dict = {'1_anim': [[('Nom', 'Plur'), ('Gen', 'Sing')], [('Dat', 'Sing'), ('Loc', 'Sing')], [('Gen', 'Pl'), ('Acc', 'Pl')]],\n",
    "                '1ия_anim': [[('Nom', 'Plur'), ('Gen', 'Sing'), ('Dat', 'Sing')], [('Gen', 'Pl'), ('Acc', 'Pl')]],\n",
    "                '1_inanim': [[('Nom', 'Plur'), ('Acc', 'Plur'), ('Gen', 'Sing')], [('Dat', 'Sing'), ('Loc', 'Sing')]]\n",
    "                '1ия_anim': [[('Nom', 'Plur'), ('Acc', 'Plur'), ('Gen', 'Sing'), ('Dat', 'Sing')]],\n",
    "                '2_neutro_inanim': [[('Nom', 'Sing'), ('Acc', 'Sing')], [('Gen', 'Sing'), ('Nom', 'Plur'), ('Acc', 'Plur')]],\n",
    "                '2_masc_inanim': [[('Nom', 'Sing'), ('Acc', 'Sing')]]\n",
    "                '2_anim': [[('Nom', 'Sing'), ('Acc', 'Sing')], [('Gen', 'Pl'), ('Acc', 'Plur')]],\n",
    "                '3_inanim': [[('Nom', 'Sing'), ('Acc', 'Sing')], [('Gen', 'Sing'), ('Dat', 'Sing'), ('Loc', 'Sing'), ('Nom', 'Pl'), ('Acc', 'Pl')]],\n",
    "                '3_anim':  [[('Nom', 'Sing'), ('Acc', 'Sing')], [('Gen', 'Sing'), ('Dat', 'Sing'), ('Loc', 'Sing'), ('Nom', 'Pl')], [('Gen', 'Pl'), ('Acc', 'Pl')]]\n"
   ]
  },
  {
   "cell_type": "code",
   "execution_count": null,
   "metadata": {},
   "outputs": [],
   "source": [
    "##Функция принимает существительное и возвращает его возможные тэгсеты (чтобы не выявлять ложные ошибки из-за омонимии)\n",
    "def get_possible_tags_noun(udpipe_noun, homonimic_dict):\n",
    "    declention = get_declenation(udpipe_noun['lemma'], udpipe_noun['feats']['Gender'], udpipe_noun['feats']['Animacy'])\n",
    "    agreement_tags = (udpipe_noun['feats']['Case'], udpipe_noun['feats']['Number'])\n",
    "    if declention:\n",
    "        homonimic_lists = homonimic_dict[declention]\n",
    "    options = [agreement_tags]\n",
    "    for homonimic_list in homonimic_lists:\n",
    "        if agreement_tags in homonimic_list:\n",
    "            options = homonimic_list\n",
    "            break\n",
    "    return options"
   ]
  },
  {
   "cell_type": "code",
   "execution_count": null,
   "metadata": {},
   "outputs": [],
   "source": [
    "##Проверяет, может ли существительное быть согласовано с указанным падежом и родом/числом\n",
    "def check_agreement_homonimy(noun, case, gender_or_number): ##проверка омонимии для согласования\n",
    "    if gender_or_number != 'Plur' and noun['feats']['Gender'] != gender_or_number: #в другом роде слово точно не согласуется\n",
    "        return False\n",
    "    if gender_or_number == 'Plur': #теперь нам нужно только число\n",
    "        number = 'Plur'\n",
    "    else:\n",
    "        number = 'Sing'\n",
    "    possible_tags = get_possible_tags_noun(udpipe_noun, homonimic_dict)\n",
    "    if (case, number) in possible_tags:\n",
    "        return True\n",
    "    else:\n",
    "        return False"
   ]
  },
  {
   "cell_type": "code",
   "execution_count": null,
   "metadata": {},
   "outputs": [],
   "source": [
    "##Проверяет, может ли существительное быть формой указанного падежа\n",
    "def check_government_homonimy(noun, case):\n",
    "    possible_tags = get_possible_tags_noun(udpipe_noun, homonimic_dict)\n",
    "    possible_cases = [tag[0] for tag in possible_tags]\n",
    "    if case in possible_cases:\n",
    "        return True\n",
    "    else:\n",
    "        return False"
   ]
  },
  {
   "cell_type": "code",
   "execution_count": null,
   "metadata": {},
   "outputs": [],
   "source": [
    "##Ищет среди потомков существительные, помеченные юдипайпом как иминительный или винительный (второе - только для неодушевленных)\n",
    "def subject_candidates_in_children(sentence, predicative_head, candidates_list):\n",
    "    children_nouns = sentense.filter(upostag='noun', head=predicative_head['id'])\n",
    "    for noun in children_nouns:\n",
    "        if (noun['feats']['Сase'] == ['Nom']) or (noun['feats']['Сase'] == ['Acc'] and noun['feats']['Animacy'] = 'Inan'):\n",
    "            candidates_list.append(noun)\n",
    "    return candidates_list"
   ]
  },
  {
   "cell_type": "code",
   "execution_count": null,
   "metadata": {},
   "outputs": [],
   "source": [
    "#ищет кандидаты в подлежащее среди потомков и потомков родителей, останавливается на первой личной форме глагола\n",
    "def subject_candidates(sentence, predicative_head):\n",
    "    candidates = []\n",
    "    candidates += subject_candidates_in_children(predicative_head)\n",
    "    while predicative_head['upostag'] != 'VERB': #вторая встреченная личная форма может быть в другой части предложения\n",
    "        predicative_head = sentence.filter(id=predicative_head['parent'])\n",
    "        if predicative_head['upostag'] == 'CONJ': ##в случае однородности берём не союз, а его вершину\n",
    "            predicative_head = sentence.filter(id=predicative_head['parent'])\n",
    "        if predicative_head['upostag'] in ['VERB', 'INF', 'ADJ']: \n",
    "            candidates += subject_candidates_in_children(predicative_head)\n",
    "        else:\n",
    "            break\n",
    "    return candidates"
   ]
  },
  {
   "cell_type": "code",
   "execution_count": null,
   "metadata": {},
   "outputs": [],
   "source": [
    "## принимает предложение, возвращает список потенциальных ошибок в прилагательных\n",
    "def check_adjectives(sentence):\n",
    "    mistakes = []\n",
    "    adjectives = get_adjectives_dict(sentence)\n",
    "    for adjective in adjectives['full']:\n",
    "        head = sentence.filter(id=adjective['head'])\n",
    "        if head['upostag'] == 'NOUN': ## \n",
    "            if not (adjective['feats']['case']== head['feats']['Case'] and get_number_or_gender(adjective) == get_number_or_gender(noun)):\n",
    "                if not check_agreement_homonimy(noun, adjective['feats']['case'], get_number_or_gender(adjective)):\n",
    "                    mistakes.append(adjective)\n",
    "        else:\n",
    "            if adjective['feats'] not in ['Nom', 'Ins']:\n",
    "                mistakes.append(adjective)\n",
    "            else:\n",
    "                adjectives['predicative'].append(adjective) ##проверка согласования по роду/числу - как для кратких\n",
    "    for adjective in adjectives['predicative']:\n",
    "        head = adjective['head']\n",
    "        subject_candidates = subject_candidates(sentence, head)\n",
    "        adj_agreement_feature = get_number_or_gender(adjective)\n",
    "        if not any([get_number_or_gender(subject_candidate) for subject_candidate in subject_candidates]):\n",
    "            mistakes.append(adjective)\n",
    "    return mustakes"
   ]
  }
 ],
 "metadata": {
  "kernelspec": {
   "display_name": "Python 3",
   "language": "python",
   "name": "python3"
  },
  "language_info": {
   "codemirror_mode": {
    "name": "ipython",
    "version": 3
   },
   "file_extension": ".py",
   "mimetype": "text/x-python",
   "name": "python",
   "nbconvert_exporter": "python",
   "pygments_lexer": "ipython3",
   "version": "3.7.4"
  }
 },
 "nbformat": 4,
 "nbformat_minor": 2
}
