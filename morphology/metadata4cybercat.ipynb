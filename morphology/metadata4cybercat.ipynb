{
 "cells": [
  {
   "cell_type": "markdown",
   "metadata": {
    "colab_type": "text",
    "id": "a_CfIuqgzYQn"
   },
   "source": [
    "### Метаданные для киберкэта"
   ]
  },
  {
   "cell_type": "code",
   "execution_count": 18,
   "metadata": {
    "colab": {},
    "colab_type": "code",
    "id": "KOGRrJVDzMF3"
   },
   "outputs": [],
   "source": [
    "import os\n",
    "import pandas as pd"
   ]
  },
  {
   "cell_type": "code",
   "execution_count": 19,
   "metadata": {
    "colab": {
     "base_uri": "https://localhost:8080/",
     "height": 68
    },
    "colab_type": "code",
    "id": "ttatX-KFyo7L",
    "outputId": "f77ebc22-ee4f-4d63-90d1-d3b4b1db3071"
   },
   "outputs": [
    {
     "name": "stderr",
     "output_type": "stream",
     "text": [
      "[nltk_data] Downloading package stopwords to\n",
      "[nltk_data]     C:\\Users\\Andrea\\AppData\\Roaming\\nltk_data...\n",
      "[nltk_data]   Package stopwords is already up-to-date!\n"
     ]
    },
    {
     "data": {
      "text/plain": [
       "True"
      ]
     },
     "execution_count": 19,
     "metadata": {},
     "output_type": "execute_result"
    }
   ],
   "source": [
    "import nltk\n",
    "nltk.download('stopwords')"
   ]
  },
  {
   "cell_type": "code",
   "execution_count": 20,
   "metadata": {
    "colab": {
     "base_uri": "https://localhost:8080/",
     "height": 139
    },
    "colab_type": "code",
    "id": "L4AFSzUq_pLB",
    "outputId": "b8d44386-f2ce-4430-fdee-91b24932b38b"
   },
   "outputs": [
    {
     "name": "stdout",
     "output_type": "stream",
     "text": [
      "Requirement already satisfied: transliterate in c:\\users\\andrea\\anaconda3\\lib\\site-packages (1.10.2)\n",
      "Requirement already satisfied: six>=1.1.0 in c:\\users\\andrea\\anaconda3\\lib\\site-packages (from transliterate) (1.12.0)\n",
      "Note: you may need to restart the kernel to use updated packages.\n"
     ]
    }
   ],
   "source": [
    "pip install transliterate"
   ]
  },
  {
   "cell_type": "code",
   "execution_count": 21,
   "metadata": {
    "colab": {},
    "colab_type": "code",
    "id": "aZdLSIAFyj4S"
   },
   "outputs": [],
   "source": [
    "from string import punctuation\n",
    "from nltk.corpus import stopwords\n",
    "punct = punctuation+'«»—…“”*№–'\n",
    "stops = set(stopwords.words('russian'))\n",
    "\n",
    "def normalize(text):\n",
    "    \n",
    "    words = [word.strip(punct) for word in text.lower().split()]\n",
    "    words = [morph.parse(word)[0].normal_form for word in words if word and word not in stops]\n",
    "\n",
    "    return words"
   ]
  },
  {
   "cell_type": "code",
   "execution_count": 22,
   "metadata": {
    "colab": {
     "base_uri": "https://localhost:8080/",
     "height": 224
    },
    "colab_type": "code",
    "id": "2KdLN6j0zN_c",
    "outputId": "41109fab-4e37-47ed-e873-fb9bab919e76"
   },
   "outputs": [
    {
     "name": "stdout",
     "output_type": "stream",
     "text": [
      "Requirement already satisfied: pymorphy2 in c:\\users\\andrea\\anaconda3\\lib\\site-packages (0.8)\n",
      "Requirement already satisfied: dawg-python>=0.7 in c:\\users\\andrea\\anaconda3\\lib\\site-packages (from pymorphy2) (0.7.2)\n",
      "Requirement already satisfied: pymorphy2-dicts<3.0,>=2.4 in c:\\users\\andrea\\anaconda3\\lib\\site-packages (from pymorphy2) (2.4.393442.3710985)\n",
      "Requirement already satisfied: docopt>=0.6 in c:\\users\\andrea\\anaconda3\\lib\\site-packages (from pymorphy2) (0.6.2)\n"
     ]
    }
   ],
   "source": [
    "!pip install pymorphy2"
   ]
  },
  {
   "cell_type": "code",
   "execution_count": 23,
   "metadata": {
    "colab": {},
    "colab_type": "code",
    "id": "GBJ3WBuzzKOs"
   },
   "outputs": [],
   "source": [
    "from pymorphy2 import MorphAnalyzer\n",
    "morph = MorphAnalyzer()"
   ]
  },
  {
   "cell_type": "code",
   "execution_count": 24,
   "metadata": {
    "colab": {},
    "colab_type": "code",
    "id": "TtIkIB-JBCIC"
   },
   "outputs": [],
   "source": [
    "from transliterate import translit, get_available_language_codes\n",
    "from transliterate.contrib.languages.ru import data\n",
    "from transliterate.base import TranslitLanguagePack, registry\n",
    "from transliterate.discover import autodiscover\n",
    "autodiscover()"
   ]
  },
  {
   "cell_type": "code",
   "execution_count": 25,
   "metadata": {
    "colab": {
     "base_uri": "https://localhost:8080/",
     "height": 34
    },
    "colab_type": "code",
    "id": "13Rry0WSHMts",
    "outputId": "e55b65ed-8ec8-4682-ad1b-9df8c04164dc"
   },
   "outputs": [
    {
     "data": {
      "text/plain": [
       "True"
      ]
     },
     "execution_count": 25,
     "metadata": {},
     "output_type": "execute_result"
    }
   ],
   "source": [
    "class russian2(TranslitLanguagePack):\n",
    "    language_code = \"ru-7\"\n",
    "    language_name = \"my_russian\"\n",
    "    mapping = (\"abvgdeziklmnoprstufyABVGDEZIYKLMNOPRSTUFY\",\n",
    "             'абвгдезиклмнопрстуфыАБВГДЕЗИЙКЛМНОПРСТУФЫ')\n",
    "    reversed_specific_mapping = ('ёэЁЭй', \"eeEEy\")\n",
    "    pre_processor_mapping = {'Ch': 'Ч',\n",
    "    'Ja': 'Я',\n",
    "    'Ju': 'Ю',\n",
    "    'Sch': 'Щ',\n",
    "    'Sh': 'Ш',\n",
    "    'Ts': 'Ц',\n",
    "    'Zh': 'Ж',\n",
    "    'ch': 'ч',\n",
    "    'ja': 'я',\n",
    "    'ju': 'ю',\n",
    "    'sch': 'щ',\n",
    "    'sh': 'ш',\n",
    "    'ts': 'ц',\n",
    "    'zh': 'ж'}\n",
    "    reversed_specific_pre_processor_mapping = {\n",
    "    'Ч': 'Ch',\n",
    "    'Я': 'Ya',\n",
    "    'Ю': 'Yu',\n",
    "    'Щ': 'Sch',\n",
    "    'Ш': 'Sh',\n",
    "    'Ц': 'Ts',\n",
    "    'Ж': 'Zh',\n",
    "    'ч': 'ch',\n",
    "    'я': 'ya',\n",
    "    'ю': 'yu',\n",
    "    'щ': 'sch',\n",
    "    'ш': 'sh',\n",
    "    'ц': 'ts',\n",
    "    'ж': 'zh',\n",
    "    'ь': '',\n",
    "    'ъ': '',\n",
    "    'ый': 'y',\n",
    "    'ий': 'y',\n",
    "    'х': 'kh',\n",
    "    'Х': 'Kh'\n",
    "    }\n",
    "registry.register(russian2)\n"
   ]
  },
  {
   "cell_type": "code",
   "execution_count": 26,
   "metadata": {
    "colab": {},
    "colab_type": "code",
    "id": "cjsuz5OXzAbE"
   },
   "outputs": [],
   "source": [
    "socio_str=\"\"\"\n",
    "личность, личности, социальное, социольного, цивилизация, цивилизации, урбанизация, урбанизации, Маркс, Маркса, Вебер, вебера, феминизм,\n",
    "феминизма, феминистский, феминистского, марксизм, марксизма, капиталистические, капиталистического, капитализм,\n",
    "капитализма, коммунизм, коммунизма, социализм, социализма, социолистический, социолистического, коммунистический, \n",
    "коммунистического, человеческий, человеческого, фордизм, фордизма,\n",
    "Дюркгейм, Дюркгейма, социализация, социализации, человечество, человечества, коллективный, интеллект, коллективного, интеллекта, обществознание, обществознания,\n",
    "социализация, социялизации, власть, влясти, стратификация, стратификации, индивид, индивида, гражданское, гражданского,\n",
    "девиантное, поведение, девиантного, поведения, преступность, преступности, наркомания, наркомании, массовое, поведение, массового, поведения, \n",
    "социальная, социальной, общость, общости\"\"\""
   ]
  },
  {
   "cell_type": "code",
   "execution_count": 27,
   "metadata": {
    "colab": {},
    "colab_type": "code",
    "id": "JjyPb4LLz-v_"
   },
   "outputs": [],
   "source": [
    "histo_str=\"\"\"географические, географических, империя, империй, царство, царства, царь, царя, революция, революции, гуманизм, гуманизма, древняя, древней, цивилизация, цивилизации,\n",
    "древние, древних, греки, греков, римляне, римлян, казацкий, казацкого, казак, казака, Русь, руси, славянский, славянского, племя, племени, Средневековье, средневековья, античность,\n",
    "античности, рабовладельческий, рабовладельческого, строй, строя, октябрьская, октябрьской, переворот, переворота, большевики, большевиков, Ленин, Ленина,\n",
    "Троцкий, троцкого, ленинизм, ленинизма, троцкизм, троцкизма, историк, историка, СССР, советский, советского, союз, союза, меньшевики, меньшевиков, конституция,\n",
    "конституции, Сталин, Сталина, перестройка, перестройки, гласность, гласности, ускорение, ускорения, раскулачивание, раскулачивания, коллективизация,\n",
    "коллективизации, погром, погрома, колхоз, колхоза, совет, совета, пролетариат, пролетариата, голодомор, голодомора, эпоха,\n",
    "эпохи, Возрождение, возрождения, предыстория, предыстории, предысторичекий, предысторического, Просветительство, просветительства, схизма, схизмы, имератор, \n",
    "императора, король, короля, королева, королевы, герцогство, герцогства, Британское, британского, Содружество, содрежества, СНГ, европейский, европейского, союз,\n",
    "союза, НАТО, война, войны, распад, распада, Византия, визатии, рыцарство, рыцарства, феодализм, феодализма,\n",
    "рыцарский, рыцарского, замок, замка, боярская, боярской, дума, думы, боярский, боярского, дворянство, дворянства, поместный, поместного, земский, земского,\n",
    "собор, собора\"\"\""
   ]
  },
  {
   "cell_type": "code",
   "execution_count": 28,
   "metadata": {
    "colab": {},
    "colab_type": "code",
    "id": "YUVEuDfC1UQX"
   },
   "outputs": [],
   "source": [
    "socio_lst=socio_str.split(\",\")\n",
    "histo_lst=histo_str.split(\",\")"
   ]
  },
  {
   "cell_type": "code",
   "execution_count": 29,
   "metadata": {
    "colab": {},
    "colab_type": "code",
    "id": "KOTyYPjq55rH"
   },
   "outputs": [],
   "source": [
    "socio_lst=[translit(word.strip(\"\\n\").strip().lower(), 'ru-7', reversed=True) for word in socio_lst]\n",
    "histo_lst=[translit(word.strip(\"\\n\").strip().lower(), 'ru-7', reversed=True) for word in histo_lst]"
   ]
  },
  {
   "cell_type": "code",
   "execution_count": 31,
   "metadata": {},
   "outputs": [],
   "source": [
    "dir_path=r\"C:\\Users\\Andrea\\Downloads\\cyberleninka\\txt\""
   ]
  },
  {
   "cell_type": "code",
   "execution_count": 32,
   "metadata": {},
   "outputs": [],
   "source": [
    "histo_dir = r\"C:\\Users\\Andrea\\Downloads\\cyberleninka\\history\"\n",
    "socio_dir = r\"C:\\Users\\Andrea\\Downloads\\cyberleninka\\sociology\""
   ]
  },
  {
   "cell_type": "code",
   "execution_count": 33,
   "metadata": {},
   "outputs": [],
   "source": [
    "os.makedirs(histo_dir, exist_ok=True)\n",
    "os.makedirs(socio_dir, exist_ok=True)"
   ]
  },
  {
   "cell_type": "code",
   "execution_count": 34,
   "metadata": {
    "colab": {},
    "colab_type": "code",
    "id": "WSI1rFeZ1ik1"
   },
   "outputs": [],
   "source": [
    "def union(lst1, lst2):\n",
    "    final_lst=list(set(lst1) & set(lst2))\n",
    "    return len(final_lst)"
   ]
  },
  {
   "cell_type": "code",
   "execution_count": 35,
   "metadata": {},
   "outputs": [],
   "source": [
    "def getNames(socio_list, histo_list, dir_path):\n",
    "    socio_art=[]\n",
    "    histo_art=[]\n",
    "    for file in os.listdir(dir_path):\n",
    "        file = file[:-7].lower().split('-')\n",
    "        if union(file, socio_list) and not Union(file, histo_list):\n",
    "            socio_art.append('-'.join(file)+'.txt.gz')\n",
    "        elif union(file, histo_list):\n",
    "            histo_art.append('-'.join(file)+'.txt.gz')\n",
    "        else:\n",
    "            continue\n",
    "    return socio_art, histo_art"
   ]
  },
  {
   "cell_type": "code",
   "execution_count": 39,
   "metadata": {},
   "outputs": [],
   "source": [
    "# socio_names, histo_names = getNames(socio_lst, histo_lst, dir_path)"
   ]
  },
  {
   "cell_type": "code",
   "execution_count": 50,
   "metadata": {},
   "outputs": [],
   "source": [
    "def file_moving(lists_of_keywords, list_of_goaldirectories, source_directory):\n",
    "    \"\"\"\n",
    "    Moves files from source directory to goal ones, compatible with windows os\n",
    "    :param lists_of_keywords: domain-realted keywords\n",
    "    :param list_of_goaldirectories: directories where we moved domain-specific cybercat files\n",
    "    ## items in the above params must overlap\n",
    "    :param source_directory: directory where all the cybercat files originally lied\n",
    "    \"\"\"\n",
    "    map_ = zip(list_of_keywords, list_of_goaldirectories)\n",
    "    for item in map_:\n",
    "        for file_name in item[0]: # here, item[0] is a list of keywords\n",
    "            os.system(r\"move {}\\{} {}\".format(source_directory, file_name, item[1]))"
   ]
  },
  {
   "cell_type": "code",
   "execution_count": null,
   "metadata": {},
   "outputs": [],
   "source": [
    "# file_moving([socio_names, histo_names], [socio_dir, histo_dir])"
   ]
  }
 ],
 "metadata": {
  "colab": {
   "name": "metadata4cybercat.ipynb",
   "provenance": []
  },
  "kernelspec": {
   "display_name": "Python 3",
   "language": "python",
   "name": "python3"
  },
  "language_info": {
   "codemirror_mode": {
    "name": "ipython",
    "version": 3
   },
   "file_extension": ".py",
   "mimetype": "text/x-python",
   "name": "python",
   "nbconvert_exporter": "python",
   "pygments_lexer": "ipython3",
   "version": "3.7.4"
  }
 },
 "nbformat": 4,
 "nbformat_minor": 1
}
