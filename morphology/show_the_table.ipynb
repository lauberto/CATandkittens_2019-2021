{
 "cells": [
  {
   "cell_type": "code",
   "execution_count": 5,
   "metadata": {},
   "outputs": [],
   "source": [
    "import csv\n",
    "import pandas as pd\n",
    "import os"
   ]
  },
  {
   "cell_type": "code",
   "execution_count": 6,
   "metadata": {},
   "outputs": [],
   "source": [
    "pd.set_option('display.max_columns', 100)\n",
    "pd.set_option('display.max_rows', 100)\n",
    "pd.set_option('display.width', 1000)"
   ]
  },
  {
   "cell_type": "code",
   "execution_count": 7,
   "metadata": {},
   "outputs": [],
   "source": [
    "df = pd.read_csv('ttest_summary.csv')"
   ]
  },
  {
   "cell_type": "code",
   "execution_count": 10,
   "metadata": {},
   "outputs": [
    {
     "data": {
      "text/html": [
       "<div>\n",
       "<style scoped>\n",
       "    .dataframe tbody tr th:only-of-type {\n",
       "        vertical-align: middle;\n",
       "    }\n",
       "\n",
       "    .dataframe tbody tr th {\n",
       "        vertical-align: top;\n",
       "    }\n",
       "\n",
       "    .dataframe thead th {\n",
       "        text-align: right;\n",
       "    }\n",
       "</style>\n",
       "<table border=\"1\" class=\"dataframe\">\n",
       "  <thead>\n",
       "    <tr style=\"text-align: right;\">\n",
       "      <th></th>\n",
       "      <th>text_name</th>\n",
       "      <th>t_statistics</th>\n",
       "      <th>p-value</th>\n",
       "    </tr>\n",
       "  </thead>\n",
       "  <tbody>\n",
       "    <tr>\n",
       "      <td>0</td>\n",
       "      <td>Anna_HL_2009-2010_Week_19_2_paragraph+_descrip...</td>\n",
       "      <td>-0.267829</td>\n",
       "      <td>0.789194</td>\n",
       "    </tr>\n",
       "    <tr>\n",
       "      <td>1</td>\n",
       "      <td>Anna_HL_AL_2009-2010_Week_14_2_paragraph+_summ...</td>\n",
       "      <td>-0.538612</td>\n",
       "      <td>0.591243</td>\n",
       "    </tr>\n",
       "    <tr>\n",
       "      <td>2</td>\n",
       "      <td>Anna_HL_AL_2009-2010_Week_16_2_paragraph_summa...</td>\n",
       "      <td>-1.044530</td>\n",
       "      <td>0.298305</td>\n",
       "    </tr>\n",
       "    <tr>\n",
       "      <td>3</td>\n",
       "      <td>Anna_HL_AL_2009-2010_Week_17_2_paragraph_defin...</td>\n",
       "      <td>-1.136754</td>\n",
       "      <td>0.257611</td>\n",
       "    </tr>\n",
       "    <tr>\n",
       "      <td>4</td>\n",
       "      <td>Anna_HL_AL_2009-2010_Week_17_4_paragraph+_expo...</td>\n",
       "      <td>0.760384</td>\n",
       "      <td>0.447818</td>\n",
       "    </tr>\n",
       "    <tr>\n",
       "      <td>...</td>\n",
       "      <td>...</td>\n",
       "      <td>...</td>\n",
       "      <td>...</td>\n",
       "    </tr>\n",
       "    <tr>\n",
       "      <td>320</td>\n",
       "      <td>Yana_HL_AM_2011-2012_Week_6_1_paragraph+_expos...</td>\n",
       "      <td>0.007532</td>\n",
       "      <td>0.994000</td>\n",
       "    </tr>\n",
       "    <tr>\n",
       "      <td>321</td>\n",
       "      <td>Yana_HL_AM_2011-2012_Week_7_1_paragraph+_expos...</td>\n",
       "      <td>-0.319146</td>\n",
       "      <td>0.750084</td>\n",
       "    </tr>\n",
       "    <tr>\n",
       "      <td>322</td>\n",
       "      <td>Yana_HL_AM_2011-2012_Week_8_1_paragraph+_expos...</td>\n",
       "      <td>-0.638529</td>\n",
       "      <td>0.524103</td>\n",
       "    </tr>\n",
       "    <tr>\n",
       "      <td>323</td>\n",
       "      <td>Yana_HL_AM_2011-2012_Week_8_2_paragraph+_summa...</td>\n",
       "      <td>0.060735</td>\n",
       "      <td>0.951643</td>\n",
       "    </tr>\n",
       "    <tr>\n",
       "      <td>324</td>\n",
       "      <td>Yana_HL_IH_2009-2010_Week_7_1_paragraph+_expos...</td>\n",
       "      <td>-2.035593</td>\n",
       "      <td>0.044239</td>\n",
       "    </tr>\n",
       "  </tbody>\n",
       "</table>\n",
       "<p>325 rows × 3 columns</p>\n",
       "</div>"
      ],
      "text/plain": [
       "                                             text_name  t_statistics   p-value\n",
       "0    Anna_HL_2009-2010_Week_19_2_paragraph+_descrip...     -0.267829  0.789194\n",
       "1    Anna_HL_AL_2009-2010_Week_14_2_paragraph+_summ...     -0.538612  0.591243\n",
       "2    Anna_HL_AL_2009-2010_Week_16_2_paragraph_summa...     -1.044530  0.298305\n",
       "3    Anna_HL_AL_2009-2010_Week_17_2_paragraph_defin...     -1.136754  0.257611\n",
       "4    Anna_HL_AL_2009-2010_Week_17_4_paragraph+_expo...      0.760384  0.447818\n",
       "..                                                 ...           ...       ...\n",
       "320  Yana_HL_AM_2011-2012_Week_6_1_paragraph+_expos...      0.007532  0.994000\n",
       "321  Yana_HL_AM_2011-2012_Week_7_1_paragraph+_expos...     -0.319146  0.750084\n",
       "322  Yana_HL_AM_2011-2012_Week_8_1_paragraph+_expos...     -0.638529  0.524103\n",
       "323  Yana_HL_AM_2011-2012_Week_8_2_paragraph+_summa...      0.060735  0.951643\n",
       "324  Yana_HL_IH_2009-2010_Week_7_1_paragraph+_expos...     -2.035593  0.044239\n",
       "\n",
       "[325 rows x 3 columns]"
      ]
     },
     "execution_count": 10,
     "metadata": {},
     "output_type": "execute_result"
    }
   ],
   "source": [
    "df"
   ]
  },
  {
   "cell_type": "code",
   "execution_count": null,
   "metadata": {},
   "outputs": [],
   "source": []
  }
 ],
 "metadata": {
  "kernelspec": {
   "display_name": "Python 3",
   "language": "python",
   "name": "python3"
  },
  "language_info": {
   "codemirror_mode": {
    "name": "ipython",
    "version": 3
   },
   "file_extension": ".py",
   "mimetype": "text/x-python",
   "name": "python",
   "nbconvert_exporter": "python",
   "pygments_lexer": "ipython3",
   "version": "3.7.4"
  }
 },
 "nbformat": 4,
 "nbformat_minor": 2
}
