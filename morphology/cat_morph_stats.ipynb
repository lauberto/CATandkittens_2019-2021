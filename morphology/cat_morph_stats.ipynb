{
 "cells": [
  {
   "cell_type": "code",
   "execution_count": 1,
   "metadata": {},
   "outputs": [],
   "source": [
    "import mysql.connector\n",
    "import csv\n",
    "import pandas as pd"
   ]
  },
  {
   "cell_type": "code",
   "execution_count": 2,
   "metadata": {},
   "outputs": [],
   "source": [
    "pd.set_option('display.max_columns', 100)\n",
    "pd.set_option('display.max_rows', 100)\n",
    "pd.set_option('display.width', 1000)"
   ]
  },
  {
   "cell_type": "code",
   "execution_count": 3,
   "metadata": {},
   "outputs": [],
   "source": [
    "con = mysql.connector.connect(user='andr',\n",
    "                              password='rstq!2Ro',\n",
    "                              host='127.0.0.1',\n",
    "                              database='cat_db',\n",
    "                              auth_plugin='mysql_native_password'\n",
    "                             )"
   ]
  },
  {
   "cell_type": "code",
   "execution_count": 4,
   "metadata": {},
   "outputs": [],
   "source": [
    "curA = con.cursor(dictionary=True, buffered=True)\n",
    "curB = con.cursor(dictionary=True, buffered=True)"
   ]
  },
  {
   "cell_type": "code",
   "execution_count": 5,
   "metadata": {},
   "outputs": [],
   "source": [
    "curA.execute(\"SELECT id_unigram, unigram, freq_all, morph FROM unigrams;\")\n",
    "rows = curA.fetchall()"
   ]
  },
  {
   "cell_type": "code",
   "execution_count": 6,
   "metadata": {},
   "outputs": [
    {
     "data": {
      "text/html": [
       "<div>\n",
       "<style scoped>\n",
       "    .dataframe tbody tr th:only-of-type {\n",
       "        vertical-align: middle;\n",
       "    }\n",
       "\n",
       "    .dataframe tbody tr th {\n",
       "        vertical-align: top;\n",
       "    }\n",
       "\n",
       "    .dataframe thead th {\n",
       "        text-align: right;\n",
       "    }\n",
       "</style>\n",
       "<table border=\"1\" class=\"dataframe\">\n",
       "  <thead>\n",
       "    <tr style=\"text-align: right;\">\n",
       "      <th></th>\n",
       "      <th>id_unigram</th>\n",
       "      <th>unigram</th>\n",
       "      <th>freq_all</th>\n",
       "      <th>morph</th>\n",
       "    </tr>\n",
       "  </thead>\n",
       "  <tbody>\n",
       "    <tr>\n",
       "      <td>0</td>\n",
       "      <td>36215</td>\n",
       "      <td>NUM</td>\n",
       "      <td>94888</td>\n",
       "      <td>_</td>\n",
       "    </tr>\n",
       "    <tr>\n",
       "      <td>1</td>\n",
       "      <td>47683</td>\n",
       "      <td>&lt;URL&gt;</td>\n",
       "      <td>1307</td>\n",
       "      <td>_</td>\n",
       "    </tr>\n",
       "    <tr>\n",
       "      <td>2</td>\n",
       "      <td>381939</td>\n",
       "      <td>А</td>\n",
       "      <td>2</td>\n",
       "      <td>Animacy=Anim|Case=Nom|Gender=Fem|Number=Sing</td>\n",
       "    </tr>\n",
       "    <tr>\n",
       "      <td>3</td>\n",
       "      <td>381940</td>\n",
       "      <td>В</td>\n",
       "      <td>803</td>\n",
       "      <td>Animacy=Anim|Case=Nom|Gender=Fem|Number=Sing</td>\n",
       "    </tr>\n",
       "    <tr>\n",
       "      <td>4</td>\n",
       "      <td>381941</td>\n",
       "      <td>Малько</td>\n",
       "      <td>45</td>\n",
       "      <td>Animacy=Anim|Case=Nom|Gender=Fem|Number=Sing</td>\n",
       "    </tr>\n",
       "  </tbody>\n",
       "</table>\n",
       "</div>"
      ],
      "text/plain": [
       "   id_unigram unigram  freq_all                                         morph\n",
       "0       36215     NUM     94888                                             _\n",
       "1       47683   <URL>      1307                                             _\n",
       "2      381939      \n",
       "А         2  Animacy=Anim|Case=Nom|Gender=Fem|Number=Sing\n",
       "3      381940       В       803  Animacy=Anim|Case=Nom|Gender=Fem|Number=Sing\n",
       "4      381941  Малько        45  Animacy=Anim|Case=Nom|Gender=Fem|Number=Sing"
      ]
     },
     "execution_count": 6,
     "metadata": {},
     "output_type": "execute_result"
    }
   ],
   "source": [
    "with open('morph_tags.csv', 'w', newline='', encoding='utf-8') as f:\n",
    "    writer = csv.writer(f)\n",
    "    writer.writerow(['id_unigram', 'unigram', 'freq_all', 'morph'])\n",
    "    for dictionary in rows:\n",
    "        writer.writerow([dictionary['id_unigram'], dictionary['unigram'], dictionary['freq_all'], dictionary['morph']])\n",
    "\n",
    "df = pd.read_csv('morph_tags.csv')\n",
    "\n",
    "df.head()"
   ]
  },
  {
   "cell_type": "code",
   "execution_count": 7,
   "metadata": {},
   "outputs": [],
   "source": [
    "curB.execute(\"SELECT morph, freq_all*count AS 'par_count' FROM (SELECT morph, freq_all, COUNT(*) AS 'count' FROM unigrams GROUP BY morph, freq_all) AS tab1\")"
   ]
  },
  {
   "cell_type": "code",
   "execution_count": 8,
   "metadata": {},
   "outputs": [],
   "source": [
    "rowsB = curB.fetchall()"
   ]
  },
  {
   "cell_type": "code",
   "execution_count": 9,
   "metadata": {},
   "outputs": [],
   "source": [
    "with open('stats.csv', 'w', newline='', encoding='utf-8') as f:\n",
    "    writer = csv.writer(f)\n",
    "    writer.writerow(['morph', 'count'])\n",
    "    for dictionary in rowsB:\n",
    "        writer.writerow([dictionary['morph'], dictionary['par_count']])"
   ]
  },
  {
   "cell_type": "code",
   "execution_count": 10,
   "metadata": {},
   "outputs": [
    {
     "data": {
      "text/html": [
       "<div>\n",
       "<style scoped>\n",
       "    .dataframe tbody tr th:only-of-type {\n",
       "        vertical-align: middle;\n",
       "    }\n",
       "\n",
       "    .dataframe tbody tr th {\n",
       "        vertical-align: top;\n",
       "    }\n",
       "\n",
       "    .dataframe thead th {\n",
       "        text-align: right;\n",
       "    }\n",
       "</style>\n",
       "<table border=\"1\" class=\"dataframe\">\n",
       "  <thead>\n",
       "    <tr style=\"text-align: right;\">\n",
       "      <th></th>\n",
       "      <th>morph</th>\n",
       "      <th>count</th>\n",
       "    </tr>\n",
       "  </thead>\n",
       "  <tbody>\n",
       "    <tr>\n",
       "      <td>0</td>\n",
       "      <td>_</td>\n",
       "      <td>94888</td>\n",
       "    </tr>\n",
       "    <tr>\n",
       "      <td>1</td>\n",
       "      <td>_</td>\n",
       "      <td>1307</td>\n",
       "    </tr>\n",
       "    <tr>\n",
       "      <td>2</td>\n",
       "      <td>Animacy=Anim|Case=Nom|Gender=Fem|Number=Sing</td>\n",
       "      <td>536</td>\n",
       "    </tr>\n",
       "    <tr>\n",
       "      <td>3</td>\n",
       "      <td>Animacy=Anim|Case=Nom|Gender=Fem|Number=Sing</td>\n",
       "      <td>803</td>\n",
       "    </tr>\n",
       "    <tr>\n",
       "      <td>4</td>\n",
       "      <td>Animacy=Anim|Case=Nom|Gender=Fem|Number=Sing</td>\n",
       "      <td>90</td>\n",
       "    </tr>\n",
       "    <tr>\n",
       "      <td>5</td>\n",
       "      <td>_</td>\n",
       "      <td>175057</td>\n",
       "    </tr>\n",
       "    <tr>\n",
       "      <td>6</td>\n",
       "      <td>Animacy=Anim|Case=Nom|Gender=Fem|Number=Sing</td>\n",
       "      <td>107</td>\n",
       "    </tr>\n",
       "    <tr>\n",
       "      <td>7</td>\n",
       "      <td>Animacy=Anim|Case=Nom|Gender=Fem|Number=Sing</td>\n",
       "      <td>70</td>\n",
       "    </tr>\n",
       "    <tr>\n",
       "      <td>8</td>\n",
       "      <td>_</td>\n",
       "      <td>137292</td>\n",
       "    </tr>\n",
       "    <tr>\n",
       "      <td>9</td>\n",
       "      <td>Case=Nom|Degree=Pos|Number=Plur</td>\n",
       "      <td>49</td>\n",
       "    </tr>\n",
       "  </tbody>\n",
       "</table>\n",
       "</div>"
      ],
      "text/plain": [
       "                                          morph   count\n",
       "0                                             _   94888\n",
       "1                                             _    1307\n",
       "2  Animacy=Anim|Case=Nom|Gender=Fem|Number=Sing     536\n",
       "3  Animacy=Anim|Case=Nom|Gender=Fem|Number=Sing     803\n",
       "4  Animacy=Anim|Case=Nom|Gender=Fem|Number=Sing      90\n",
       "5                                             _  175057\n",
       "6  Animacy=Anim|Case=Nom|Gender=Fem|Number=Sing     107\n",
       "7  Animacy=Anim|Case=Nom|Gender=Fem|Number=Sing      70\n",
       "8                                             _  137292\n",
       "9               Case=Nom|Degree=Pos|Number=Plur      49"
      ]
     },
     "execution_count": 10,
     "metadata": {},
     "output_type": "execute_result"
    }
   ],
   "source": [
    "df_par_stats = pd.read_csv('stats.csv')\n",
    "\n",
    "df_par_stats[:10]"
   ]
  },
  {
   "cell_type": "code",
   "execution_count": 11,
   "metadata": {},
   "outputs": [],
   "source": [
    "partial_stats = df_par_stats.to_dict('records')"
   ]
  },
  {
   "cell_type": "code",
   "execution_count": 12,
   "metadata": {},
   "outputs": [],
   "source": [
    "stats = {}\n",
    "for dictn in partial_stats:\n",
    "    if dictn['morph'] in stats:\n",
    "        stats[dictn['morph']] += dictn['count']\n",
    "    else:\n",
    "        stats[dictn['morph']] = dictn['count']"
   ]
  },
  {
   "cell_type": "code",
   "execution_count": 13,
   "metadata": {},
   "outputs": [
    {
     "data": {
      "text/plain": [
       "498"
      ]
     },
     "execution_count": 13,
     "metadata": {},
     "output_type": "execute_result"
    }
   ],
   "source": [
    "len(stats)"
   ]
  },
  {
   "cell_type": "code",
   "execution_count": 14,
   "metadata": {},
   "outputs": [],
   "source": [
    "df_stats = pd.DataFrame(stats.items(), columns=['morph', 'count'])"
   ]
  },
  {
   "cell_type": "code",
   "execution_count": 15,
   "metadata": {},
   "outputs": [],
   "source": [
    "df_stats = df_stats[df_stats.morph != '_']"
   ]
  },
  {
   "cell_type": "code",
   "execution_count": 17,
   "metadata": {},
   "outputs": [
    {
     "data": {
      "text/html": [
       "<div>\n",
       "<style scoped>\n",
       "    .dataframe tbody tr th:only-of-type {\n",
       "        vertical-align: middle;\n",
       "    }\n",
       "\n",
       "    .dataframe tbody tr th {\n",
       "        vertical-align: top;\n",
       "    }\n",
       "\n",
       "    .dataframe thead th {\n",
       "        text-align: right;\n",
       "    }\n",
       "</style>\n",
       "<table border=\"1\" class=\"dataframe\">\n",
       "  <thead>\n",
       "    <tr style=\"text-align: right;\">\n",
       "      <th></th>\n",
       "      <th>morph</th>\n",
       "      <th>count</th>\n",
       "    </tr>\n",
       "  </thead>\n",
       "  <tbody>\n",
       "    <tr>\n",
       "      <td>1</td>\n",
       "      <td>Animacy=Anim|Case=Nom|Gender=Fem|Number=Sing</td>\n",
       "      <td>9117</td>\n",
       "    </tr>\n",
       "    <tr>\n",
       "      <td>2</td>\n",
       "      <td>Case=Nom|Degree=Pos|Number=Plur</td>\n",
       "      <td>17522</td>\n",
       "    </tr>\n",
       "    <tr>\n",
       "      <td>3</td>\n",
       "      <td>Animacy=Inan|Case=Nom|Gender=Masc|Number=Plur</td>\n",
       "      <td>10837</td>\n",
       "    </tr>\n",
       "    <tr>\n",
       "      <td>4</td>\n",
       "      <td>Case=Nom|Degree=Pos|Gender=Masc|Number=Sing</td>\n",
       "      <td>13939</td>\n",
       "    </tr>\n",
       "    <tr>\n",
       "      <td>5</td>\n",
       "      <td>Animacy=Inan|Case=Nom|Gender=Masc|Number=Sing</td>\n",
       "      <td>39252</td>\n",
       "    </tr>\n",
       "  </tbody>\n",
       "</table>\n",
       "</div>"
      ],
      "text/plain": [
       "                                           morph  count\n",
       "1   Animacy=Anim|Case=Nom|Gender=Fem|Number=Sing   9117\n",
       "2                Case=Nom|Degree=Pos|Number=Plur  17522\n",
       "3  Animacy=Inan|Case=Nom|Gender=Masc|Number=Plur  10837\n",
       "4    Case=Nom|Degree=Pos|Gender=Masc|Number=Sing  13939\n",
       "5  Animacy=Inan|Case=Nom|Gender=Masc|Number=Sing  39252"
      ]
     },
     "execution_count": 17,
     "metadata": {},
     "output_type": "execute_result"
    }
   ],
   "source": [
    "df_stats.head()"
   ]
  },
  {
   "cell_type": "code",
   "execution_count": 23,
   "metadata": {},
   "outputs": [],
   "source": [
    "tot = df_stats['count'].sum(axis=0)"
   ]
  },
  {
   "cell_type": "code",
   "execution_count": 27,
   "metadata": {},
   "outputs": [],
   "source": [
    "partial_freq = df_stats['count'] / tot"
   ]
  },
  {
   "cell_type": "code",
   "execution_count": 28,
   "metadata": {},
   "outputs": [
    {
     "data": {
      "text/html": [
       "<div>\n",
       "<style scoped>\n",
       "    .dataframe tbody tr th:only-of-type {\n",
       "        vertical-align: middle;\n",
       "    }\n",
       "\n",
       "    .dataframe tbody tr th {\n",
       "        vertical-align: top;\n",
       "    }\n",
       "\n",
       "    .dataframe thead th {\n",
       "        text-align: right;\n",
       "    }\n",
       "</style>\n",
       "<table border=\"1\" class=\"dataframe\">\n",
       "  <thead>\n",
       "    <tr style=\"text-align: right;\">\n",
       "      <th></th>\n",
       "      <th>morph</th>\n",
       "      <th>count</th>\n",
       "      <th>partial_freq</th>\n",
       "    </tr>\n",
       "  </thead>\n",
       "  <tbody>\n",
       "    <tr>\n",
       "      <td>1</td>\n",
       "      <td>Animacy=Anim|Case=Nom|Gender=Fem|Number=Sing</td>\n",
       "      <td>9117</td>\n",
       "      <td>0.005567</td>\n",
       "    </tr>\n",
       "    <tr>\n",
       "      <td>2</td>\n",
       "      <td>Case=Nom|Degree=Pos|Number=Plur</td>\n",
       "      <td>17522</td>\n",
       "      <td>0.010699</td>\n",
       "    </tr>\n",
       "    <tr>\n",
       "      <td>3</td>\n",
       "      <td>Animacy=Inan|Case=Nom|Gender=Masc|Number=Plur</td>\n",
       "      <td>10837</td>\n",
       "      <td>0.006617</td>\n",
       "    </tr>\n",
       "    <tr>\n",
       "      <td>4</td>\n",
       "      <td>Case=Nom|Degree=Pos|Gender=Masc|Number=Sing</td>\n",
       "      <td>13939</td>\n",
       "      <td>0.008511</td>\n",
       "    </tr>\n",
       "    <tr>\n",
       "      <td>5</td>\n",
       "      <td>Animacy=Inan|Case=Nom|Gender=Masc|Number=Sing</td>\n",
       "      <td>39252</td>\n",
       "      <td>0.023968</td>\n",
       "    </tr>\n",
       "  </tbody>\n",
       "</table>\n",
       "</div>"
      ],
      "text/plain": [
       "                                           morph  count  partial_freq\n",
       "1   Animacy=Anim|Case=Nom|Gender=Fem|Number=Sing   9117      0.005567\n",
       "2                Case=Nom|Degree=Pos|Number=Plur  17522      0.010699\n",
       "3  Animacy=Inan|Case=Nom|Gender=Masc|Number=Plur  10837      0.006617\n",
       "4    Case=Nom|Degree=Pos|Gender=Masc|Number=Sing  13939      0.008511\n",
       "5  Animacy=Inan|Case=Nom|Gender=Masc|Number=Sing  39252      0.023968"
      ]
     },
     "execution_count": 28,
     "metadata": {},
     "output_type": "execute_result"
    }
   ],
   "source": [
    "df_stats.insert(loc=len(df_stats.columns), column='partial_freq', value=partial_freq) \n",
    "df_stats.head()"
   ]
  },
  {
   "cell_type": "code",
   "execution_count": null,
   "metadata": {},
   "outputs": [],
   "source": []
  }
 ],
 "metadata": {
  "kernelspec": {
   "display_name": "Python 3",
   "language": "python",
   "name": "python3"
  },
  "language_info": {
   "codemirror_mode": {
    "name": "ipython",
    "version": 3
   },
   "file_extension": ".py",
   "mimetype": "text/x-python",
   "name": "python",
   "nbconvert_exporter": "python",
   "pygments_lexer": "ipython3",
   "version": "3.7.4"
  }
 },
 "nbformat": 4,
 "nbformat_minor": 2
}
