{
 "cells": [
  {
   "cell_type": "code",
   "execution_count": 1,
   "metadata": {},
   "outputs": [],
   "source": [
    "from ufal.udpipe import Model, Pipeline, ProcessingError\n",
    "import os"
   ]
  },
  {
   "cell_type": "code",
   "execution_count": 7,
   "metadata": {},
   "outputs": [],
   "source": [
    "#Функция, которая обработает подаваемые txt файлы\n",
    "#Используйте модель по ссылке https://lindat.mff.cuni.cz/repository/xmlui/bitstream/handle/11234/1-2998/russian-syntagrus-ud-2.4-190531.udpipe?sequence=74&isAllowed=y\n",
    "def make_conll_with_udpipe(text):\n",
    "    model_path = 'C:\\\\Users\\\\Andrea\\\\russian-syntagrus-ud-2.4-190531.udpipe' # здесь указать путь к модели\n",
    "    model = Model.load(model_path)\n",
    "    pipeline = Pipeline(model, 'tokenize', Pipeline.DEFAULT, Pipeline.DEFAULT, 'conllu')\n",
    "    return pipeline.process(text)\n",
    "\n",
    "#Пример\n",
    "source_dir = os.path.join(os.getcwd(), \"manually_cleaned_txt\")\n",
    "goal_dir = os.path.join(os.getcwd(), \"parsed_txt\")\n",
    "\n",
    "os.makedirs(goal_dir, exist_ok=True)\n",
    "\n",
    "for file in os.listdir(source_dir):\n",
    "    \n",
    "    with open(os.path.join(source_dir, file), 'r', encoding='utf-8') as txt:\n",
    "        text = txt.read()\n",
    "    \n",
    "    x = make_conll_with_udpipe(text)\n",
    "    with open(os.path.join(goal_dir, \"prs_\".format() + file.strip(\".txt\") + \".conllu\"), 'w', encoding='utf-8') as fw:\n",
    "        fw.write(x)\n",
    "#Потом напишите цикл, который пройдется по всем 600 файлам в папке и разметит их"
   ]
  },
  {
   "cell_type": "code",
   "execution_count": null,
   "metadata": {},
   "outputs": [],
   "source": []
  }
 ],
 "metadata": {
  "kernelspec": {
   "display_name": "Python 3",
   "language": "python",
   "name": "python3"
  },
  "language_info": {
   "codemirror_mode": {
    "name": "ipython",
    "version": 3
   },
   "file_extension": ".py",
   "mimetype": "text/x-python",
   "name": "python",
   "nbconvert_exporter": "python",
   "pygments_lexer": "ipython3",
   "version": "3.7.4"
  }
 },
 "nbformat": 4,
 "nbformat_minor": 2
}
